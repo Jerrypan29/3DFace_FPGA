{
 "cells": [
  {
   "cell_type": "code",
   "execution_count": null,
   "id": "5d3d4fce",
   "metadata": {},
   "outputs": [],
   "source": [
    "import os\n",
    "os.environ[\"PYOPENGL_PLATFORM\"] = \"egl\"\n",
    "import cv2\n",
    "from src.facescape_fitter import facescape_fitter\n",
    "from src.utility import show_img_arr\n",
    "from src.renderer import render_orthcam\n",
    "\n",
    "fs_fitter = facescape_fitter(fs_file = \"./bilinear_model_v1.6/facescape_bm_v1.6_847_50_52_id_front_new.npz\", \n",
    "                             kp2d_backend = 'dlib') \n",
    "src_img = cv2.imread(\"./test_data/0.jpg\")  \n",
    "print(\"reading img file start\")\n",
    "kp2d = fs_fitter.detect_kp2d(src_img) # extract 2D key points\n",
    "mesh, a = fs_fitter.fit_kp2d(kp2d) # fit model\n",
    "print(\"program mesh ended\")\n",
    "\n",
    "# ========== Visualize Result ==========\n",
    "# transform to orthogonal camera coordinate\n",
    "\n",
    "mesh_tm = trimesh.Trimesh(vertices = mesh.vertices.copy(), \n",
    "                          faces = fs_fitter.fv_indices_front-1, \n",
    "                          process = False)\n",
    "mesh_tm.vertices[:, :2] = mesh_tm.vertices[:, 0:2] - np.array([src_img.shape[1] / 2, src_img.shape[0] / 2])#原行两列\n",
    "mesh_tm.vertices = mesh_tm.vertices / src_img.shape[0] * 2\n",
    "mesh_tm.vertices[:, 2] = mesh_tm.vertices[:, 2] - 10\n",
    "\n",
    "# render texture image and depth\n",
    "rend_depth, rend_tex = render_orthcam(mesh_tm, (1, 1), \n",
    "                                      rend_size = tuple(src_img.shape[:2]), \n",
    "                                      flat_shading=False)\n",
    "                                      \n",
    "mask = np.stack((rend_depth!=0, )*3, 2)\n",
    "res_img = src_img.copy()\n",
    "res_img[mask] = rend_tex[mask]\n",
    "\n",
    "print(\"program ended\")\n",
    "\n",
    "\n",
    "# visualize\n",
    "vis_scale = 512. / np.max(src_img.shape[:2])\n",
    "sc_img = cv2.resize(src_img, (round(src_img.shape[1]*vis_scale), \n",
    "                              round(src_img.shape[0]*vis_scale)))\n",
    "\n",
    "sc_res_img = cv2.resize(res_img, (round(src_img.shape[1]*vis_scale), \n",
    "                                  round(src_img.shape[0]*vis_scale)))\n",
    "\n",
    "haha = show_img_arr(np.concatenate((sc_img, sc_res_img), 1), bgr_mode = True)\n",
    "print(\"show succeed\")\n",
    "\n",
    "\n",
    "\n",
    "\n"
   ]
  }
 ],
 "metadata": {
  "kernelspec": {
   "display_name": "Python 3 (ipykernel)",
   "language": "python",
   "name": "python3"
  },
  "language_info": {
   "codemirror_mode": {
    "name": "ipython",
    "version": 3
   },
   "file_extension": ".py",
   "mimetype": "text/x-python",
   "name": "python",
   "nbconvert_exporter": "python",
   "pygments_lexer": "ipython3",
   "version": "3.12.1"
  }
 },
 "nbformat": 4,
 "nbformat_minor": 5
}
